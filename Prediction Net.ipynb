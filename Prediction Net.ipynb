{
 "cells": [
  {
   "cell_type": "code",
   "execution_count": 6,
   "metadata": {},
   "outputs": [],
   "source": [
    "import numpy"
   ]
  },
  {
   "cell_type": "code",
   "execution_count": 7,
   "metadata": {},
   "outputs": [],
   "source": [
    "data=[[3,1.5,1],[2,1,0],[4,1.5,1],[3,1,0],[3,0.5,1],[2,0.5,0],[5.5,1,1],[1,1,0]]\n",
    "costs=[]\n",
    "def sigmoid(x):\n",
    "    return 1/(1+numpy.exp(-x))\n",
    "def sigmoid_p(x):\n",
    "    return (sigmoid(x))*(1-sigmoid(x))\n",
    "aplha1=0.2\n",
    "def neuraln(m1,m2,w1,w2,b):\n",
    "    z=m1*w1+m2*w2+b\n",
    "    return sigmoid(z)\n",
    "w1=numpy.random.randn()\n",
    "w2=numpy.random.randn()\n",
    "b=numpy.random.randn()\n",
    "\n",
    "for i in range(50000):\n",
    "    ri=numpy.random.randint(len(data))\n",
    "    point=data[ri]\n",
    "    z=w1*point[0]+w2*point[1]+b\n",
    "    h=sigmoid(z)\n",
    "    target=point[2]\n",
    "    cost=(h-target)**2\n",
    "    \n",
    "    der_cost=2*(h-target)\n",
    "    der_sigmoid=sigmoid_p(z)\n",
    "    dz_dw=point[0]\n",
    "    dz_dw2=point[1]\n",
    "    dz_db=1\n",
    "    dcost_dw1=der_cost*der_sigmoid*dz_dw\n",
    "    dcost_dw2=der_cost*der_sigmoid*dz_dw2\n",
    "    dcost_db=der_cost*der_sigmoid*dz_db\n",
    "    w1=w1-aplha1*dcost_dw1\n",
    "    w2=w2-aplha1*dcost_dw2\n",
    "    b=b-aplha1*dcost_db\n",
    "    if i%100==0:\n",
    "        cost_sum=0\n",
    "        for j in range(len(data)):\n",
    "            point=data[ri]\n",
    "            z=w1*point[0]+w2*point[1]+b\n",
    "            h=sigmoid(z)\n",
    "            target=point[2]\n",
    "            cost_sum+=(h-target)**2\n",
    "        costs.append(cost_sum/len(data))\n",
    "\n",
    "            \n"
   ]
  },
  {
   "cell_type": "code",
   "execution_count": 8,
   "metadata": {},
   "outputs": [
    {
     "name": "stdout",
     "output_type": "stream",
     "text": [
      "[3, 1.5, 1]\n",
      "pred: 0.814030354004924\n",
      "[2, 1, 0]\n",
      "pred: 0.041663849708072354\n",
      "[4, 1.5, 1]\n",
      "pred: 0.9973686846186138\n",
      "[3, 1, 0]\n",
      "pred: 0.7901214564051723\n",
      "[3, 0.5, 1]\n",
      "pred: 0.7640297813457706\n",
      "[2, 0.5, 0]\n",
      "pred: 0.03604344267395642\n",
      "[5.5, 1, 1]\n",
      "pred: 0.9999961931846547\n",
      "[1, 1, 0]\n",
      "pred: 0.0005018099269519371\n"
     ]
    }
   ],
   "source": [
    "for a in range(len(data)):\n",
    "    point=data[a]\n",
    "    print (point)\n",
    "    z=w1*point[0]+w2*point[1]+b\n",
    "    h=sigmoid(z)\n",
    "    print(\"pred: {}\".format(h))"
   ]
  },
  {
   "cell_type": "code",
   "execution_count": 9,
   "metadata": {},
   "outputs": [
    {
     "data": {
      "text/plain": [
       "0.9996704626739374"
      ]
     },
     "execution_count": 9,
     "metadata": {},
     "output_type": "execute_result"
    }
   ],
   "source": [
    "myst=[4.5,1]\n",
    "z=myst[0]*w1+myst[1]*w2+b\n",
    "pred=sigmoid(z)\n",
    "pred"
   ]
  },
  {
   "cell_type": "code",
   "execution_count": 10,
   "metadata": {},
   "outputs": [],
   "source": [
    "import os"
   ]
  },
  {
   "cell_type": "code",
   "execution_count": 11,
   "metadata": {},
   "outputs": [],
   "source": [
    "def whid(le,wid):\n",
    "    z=le*w1+wid*w2+b\n",
    "    pred=sigmoid(z)\n",
    "    if pred<0.5:\n",
    "        os.system(\"say the flower is blue\")\n",
    "    else:\n",
    "        os.system(\"say red\")\n",
    "whid(2,1)"
   ]
  },
  {
   "cell_type": "code",
   "execution_count": 13,
   "metadata": {},
   "outputs": [],
   "source": [
    "whid(34,1)"
   ]
  },
  {
   "cell_type": "code",
   "execution_count": null,
   "metadata": {},
   "outputs": [],
   "source": []
  },
  {
   "cell_type": "code",
   "execution_count": null,
   "metadata": {},
   "outputs": [],
   "source": []
  },
  {
   "cell_type": "code",
   "execution_count": null,
   "metadata": {},
   "outputs": [],
   "source": []
  },
  {
   "cell_type": "code",
   "execution_count": null,
   "metadata": {},
   "outputs": [],
   "source": []
  },
  {
   "cell_type": "code",
   "execution_count": null,
   "metadata": {},
   "outputs": [],
   "source": []
  }
 ],
 "metadata": {
  "kernelspec": {
   "display_name": "Python 3",
   "language": "python",
   "name": "python3"
  },
  "language_info": {
   "codemirror_mode": {
    "name": "ipython",
    "version": 3
   },
   "file_extension": ".py",
   "mimetype": "text/x-python",
   "name": "python",
   "nbconvert_exporter": "python",
   "pygments_lexer": "ipython3",
   "version": "3.6.4"
  }
 },
 "nbformat": 4,
 "nbformat_minor": 2
}
